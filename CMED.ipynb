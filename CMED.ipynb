{
  "cells": [
    {
      "cell_type": "markdown",
      "id": "c65dc557-75fd-451f-9f3b-1b7dcca4a4c6",
      "metadata": {
        "id": "c65dc557-75fd-451f-9f3b-1b7dcca4a4c6"
      },
      "source": [
        "<h1 style=\"font-size:3rem;color:blue;\"> Correlated Microstructures Elements Descriptor (CMED)</h1>"
      ]
    },
    {
      "cell_type": "markdown",
      "id": "b701757b-4bb6-40ce-9a7e-5ce678d1a3d5",
      "metadata": {
        "id": "b701757b-4bb6-40ce-9a7e-5ce678d1a3d5"
      },
      "source": [
        "<img src=\"CMEDprocess.png\">"
      ]
    },
    {
      "cell_type": "markdown",
      "id": "5a2ce4a2-1706-4fc3-b963-f4362af9935b",
      "metadata": {
        "id": "5a2ce4a2-1706-4fc3-b963-f4362af9935b"
      },
      "source": [
        "# Librarys"
      ]
    },
    {
      "cell_type": "code",
      "execution_count": null,
      "id": "138c15fc-b2b5-4d6f-bee7-7ef8f0186b66",
      "metadata": {
        "id": "138c15fc-b2b5-4d6f-bee7-7ef8f0186b66"
      },
      "outputs": [],
      "source": [
        "import cv2\n",
        "import numpy as np\n",
        "import math"
      ]
    },
    {
      "cell_type": "markdown",
      "id": "e18e05b3-0b12-4f5b-ac72-b2535dcb273b",
      "metadata": {
        "id": "e18e05b3-0b12-4f5b-ac72-b2535dcb273b"
      },
      "source": [
        "# CMED Main Function"
      ]
    },
    {
      "cell_type": "markdown",
      "id": "9ddbaee9-5714-4a8e-ae03-19c27f32bd97",
      "metadata": {
        "id": "9ddbaee9-5714-4a8e-ae03-19c27f32bd97"
      },
      "source": [
        "## Get_CMED function"
      ]
    },
    {
      "cell_type": "markdown",
      "id": "5155d928-01c2-4e3b-9b98-0586b0c623e5",
      "metadata": {
        "id": "5155d928-01c2-4e3b-9b98-0586b0c623e5"
      },
      "source": [
        "- **img**. Image to describe\n",
        "- **qc1**. Color cuantification number in H (8)\n",
        "- **qc2**. Color cuantification number in S (3)\n",
        "- **qc3**. Color cuantification number in V (3)\n",
        "- **Qo**. Orientation cuantification number (6)\n",
        "- **Qi**. Intensity cuantification number (10)\n",
        "- **Par**. Paramters vector\n",
        "  - **te**. Estructure type ()\n",
        "  - **ne**. Number of structures ()\n",
        "  - **pe**. Position of structure detection (DC or CC)"
      ]
    },
    {
      "cell_type": "code",
      "execution_count": null,
      "id": "6dd2c395-a0ae-4f35-93a3-b0bb50fc04b6",
      "metadata": {
        "id": "6dd2c395-a0ae-4f35-93a3-b0bb50fc04b6"
      },
      "outputs": [],
      "source": [
        "def Get_CMED (img, qc1, qc2, qc3, Qo, Qi, Par):\n",
        "    [Row, Col]=img.shape[:2]\n",
        "    [te, ne, pe]=Par[:3]\n",
        "    Qc = qc1*qc2*qc3\n",
        "    #-----------------------------GET HSV IMAGE\n",
        "    img_HSV = cv2.cvtColor(img, cv2.COLOR_BGR2HSV)\n",
        "    HSV = NorImage(img_HSV,179,255,255)    #OpenCV gets H [0 - 179] S [0-255] V [0-255]\n",
        "    #-----------------COLOR QUANTIZATION IN HSV COLOR SPACE\n",
        "    ImageC=GetColorMap(HSV,qc1,qc2,qc3,Row,Col)\n",
        "    #MULTI-DIMENSIONAL TEXTURE ORIENTATION DETECTION IN HSV COLOR SPACE (MD-TOD)\n",
        "    hsv = Cylin2Cart(HSV,Row,Col)\n",
        "    ImageO=GetOriMap(hsv,Qo,Row,Col)\n",
        "    #-------------------------INTENSITY MAP EXTRACTION\n",
        "    ImageI=GetIntMap(HSV,Qi,Row,Col)\n",
        "    #----------------------STRUCTURES DETECTION & CORRELATION\n",
        "    if pe=='DC':\n",
        "        #---------------CORRELATED MICROSTRUCTURE IDENTIFICATION\n",
        "        mmC=Get_MicroMap(ImageO,ImageI,ImageC,Row,Col)# MICRO-COLOR MAP\n",
        "        mmO=Get_MicroMap(ImageI,ImageC,ImageO,Row,Col)# MICRO-ORIENTATION MAP\n",
        "        mmI=Get_MicroMap(ImageC,ImageO,ImageI,Row,Col)# MICRO-INTENSITY MAP\n",
        "        #---------------------STRUCTURE ELEMENTS DETECTION\n",
        "        hEC=Get_SEH(ImageC,Row,Col,te,ne)\n",
        "        hEO=Get_SEH(ImageO,Row,Col,te,ne)\n",
        "        hEI=Get_SEH(ImageI,Row,Col,te,ne)\n",
        "    elif pe=='CC':\n",
        "        [hEC,mmC]=Get_MicroMapStr(ImageO,ImageI,ImageC,Row,Col,te,ne)# MICRO-COLOR MAP FEATURES\n",
        "        [hEO,mmO]=Get_MicroMapStr(ImageI,ImageC,ImageO,Row,Col,te,ne)# MICRO-ORIENTATION MAP FEATURES\n",
        "        [hEI,mmI]=Get_MicroMapStr(ImageC,ImageO,ImageI,Row,Col,te,ne)# MICRO-INTENSITY MAP\n",
        "    #----------------------------HISTOGRAM REPRECENTATION\n",
        "    hC= Get_MSR(mmC, Qc, Row, Col) # micro-structure representation Color\n",
        "    hO= Get_MSR(mmO, Qo, Row, Col) # micro-structure representation Orientation\n",
        "    hI= Get_MSR(mmI, Qi, Row, Col) # micro-structure representation Intensity\n",
        "    #---------------------------------FINALL VECTOR\n",
        "    CMED=np.concatenate((hEC,hEO,hEI,hC,hO,hI))\n",
        "    return CMED"
      ]
    },
    {
      "cell_type": "markdown",
      "id": "605943af-b74a-4e0c-af7d-d3730909dc3f",
      "metadata": {
        "id": "605943af-b74a-4e0c-af7d-d3730909dc3f"
      },
      "source": [
        "## *NorImage* Function"
      ]
    },
    {
      "cell_type": "code",
      "execution_count": null,
      "id": "01e32f46-9fb0-4fae-baaf-2a57086304e2",
      "metadata": {
        "id": "01e32f46-9fb0-4fae-baaf-2a57086304e2"
      },
      "outputs": [],
      "source": [
        "def NorImage (img,c1,c2,c3):\n",
        "    Nimg=np.array([img[:,:,0]/c1,img[:,:,1]/c2,img[:,:,2]/c3])\n",
        "    return Nimg"
      ]
    },
    {
      "cell_type": "markdown",
      "id": "5034fe96-6363-4f05-812a-5a85cd9761fb",
      "metadata": {
        "id": "5034fe96-6363-4f05-812a-5a85cd9761fb"
      },
      "source": [
        "## *GetColorMap* Function"
      ]
    },
    {
      "cell_type": "code",
      "execution_count": null,
      "id": "098517e4-894f-4597-b13d-81b2b8e99bdc",
      "metadata": {
        "id": "098517e4-894f-4597-b13d-81b2b8e99bdc"
      },
      "outputs": [],
      "source": [
        "def GetColorMap(HSV,qc1,qc2,qc3,Row,Col):\n",
        "    R=Row-2\n",
        "    C=Col-2\n",
        "    CM=np.zeros((R,C))\n",
        "    HI=0\n",
        "    SI=0\n",
        "    VI=0\n",
        "    for i in range (R):\n",
        "        for j in range (C):\n",
        "            HI=round(HSV[0, i+1, j+1] * qc1)\n",
        "            if HI >= qc1:\n",
        "                HI=HI-1\n",
        "            SI=round(HSV[1, i+1, j+1] * qc2)\n",
        "            if SI >= qc2:\n",
        "                SI=SI-1\n",
        "            VI=round(HSV[2, i+1, j+1] * qc3)\n",
        "            if VI >= qc3:\n",
        "                VI=VI-1\n",
        "            CM[i,j] = qc3 * qc2 * HI + qc3 * SI + VI\n",
        "    return CM"
      ]
    },
    {
      "cell_type": "markdown",
      "id": "b4af0ccf-5aaa-4d2d-8c59-e449ab1dcd8a",
      "metadata": {
        "id": "b4af0ccf-5aaa-4d2d-8c59-e449ab1dcd8a"
      },
      "source": [
        "## *GetOriMap* Function"
      ]
    },
    {
      "cell_type": "code",
      "execution_count": null,
      "id": "211f013c-4d06-4303-9514-7e559bf3ee7c",
      "metadata": {
        "id": "211f013c-4d06-4303-9514-7e559bf3ee7c"
      },
      "outputs": [],
      "source": [
        "def GetOriMap(HSV,Qo,Row,Col):\n",
        "    hsv=Cylin2Cart(HSV,Row,Col)\n",
        "    #MD-TOD\n",
        "    ori=GetMD_TOD(hsv,Row,Col)\n",
        "    OM = ori*(Qo-1)\n",
        "    return OM"
      ]
    },
    {
      "cell_type": "markdown",
      "id": "737b33ae-408e-49d1-8d55-189bc7be76ac",
      "metadata": {
        "id": "737b33ae-408e-49d1-8d55-189bc7be76ac"
      },
      "source": [
        "### *Cylin2Cart* Function"
      ]
    },
    {
      "cell_type": "code",
      "execution_count": null,
      "id": "26f028bf-b61d-41bf-b4e8-75834b322ef5",
      "metadata": {
        "id": "26f028bf-b61d-41bf-b4e8-75834b322ef5"
      },
      "outputs": [],
      "source": [
        "def Cylin2Cart(HSV,Row,Col):\n",
        "    M=np.zeros((3,Row,Col))\n",
        "    G=HSV[0,:,:]*360\n",
        "    R=G*np.pi/180\n",
        "    M[0,:,:] = HSV[1,:,:] * np.cos(R)\n",
        "    M[1,:,:] = HSV[1,:,:] * np.sin(R)\n",
        "    M[2,:,:] = HSV[2,:,:]\n",
        "    return M"
      ]
    },
    {
      "cell_type": "markdown",
      "id": "969025fb-344e-4489-8134-0d30e39a21bd",
      "metadata": {
        "id": "969025fb-344e-4489-8134-0d30e39a21bd"
      },
      "source": [
        "### *GetMD_TOD* Function"
      ]
    },
    {
      "cell_type": "code",
      "execution_count": null,
      "id": "9af6cee1-fac1-42c6-bf4a-7dbba18e7f94",
      "metadata": {
        "id": "9af6cee1-fac1-42c6-bf4a-7dbba18e7f94"
      },
      "outputs": [],
      "source": [
        "def GetMD_TOD(img,Row,Col):\n",
        "    R=Row-2\n",
        "    C=Col-2\n",
        "    Txy=np.zeros((R,C))\n",
        "    Td=np.zeros((R,C))\n",
        "    #Sobel directions\n",
        "    for i in range (R):\n",
        "        for j in range (C):\n",
        "            # Horizontal\n",
        "            rh = (img[0,i,j+2] + 2*img[0,i+1,j+2] + img[0,i+2,j+2]) - (img[0,i,j] + 2*img[0,i+1,j] + img[0,i+2,j])\n",
        "            gh = (img[1,i,j+2] + 2*img[1,i+1,j+2] + img[1,i+2,j+2]) - (img[1,i,j] + 2*img[1,i+1,j] + img[1,i+2,j])\n",
        "            bh = (img[2,i,j+2] + 2*img[2,i+1,j+2] + img[2,i+2,j+2]) - (img[2,i,j] + 2*img[2,i+1,j] + img[2,i+2,j])\n",
        "            # Vertical\n",
        "            rv = (img[0,i+2,j] + 2*img[0,i+2,j+1] + img[0,i+2,j+2]) - (img[0,i,j] + 2*img[0,i,j+1] + img[0,i,j+2])\n",
        "            gv = (img[1,i+2,j] + 2*img[1,i+2,j+1] + img[1,i+2,j+2]) - (img[1,i,j] + 2*img[1,i,j+1] + img[1,i,j+2])\n",
        "            bv = (img[2,i+2,j] + 2*img[2,i+2,j+1] + img[2,i+2,j+2]) - (img[2,i,j] + 2*img[2,i,j+1] + img[2,i,j+2])\n",
        "            # Obtain angle by the product of the vectors  H*V= |H|*|V|*cos(angle) ∴ angle = arcos (H*V/|H|*|V|)\n",
        "            Txy[i,j] = GetAnglePV(rh,gh,bh,rv,gv,bv)\n",
        "            # +45 degree\n",
        "            rpd = (img[0,i,j+1] + 2*img[0,i,j+2] + img[0,i+1,j+2]) - (img[0,i+1,j] + 2*img[0,i+2,j] + img[0,i+2,j+1])\n",
        "            gpd = (img[1,i,j+1] + 2*img[1,i,j+2] + img[1,i+1,j+2]) - (img[1,i+1,j] + 2*img[1,i+2,j] + img[1,i+2,j+1])\n",
        "            bpd = (img[2,i,j+1] + 2*img[2,i,j+2] + img[2,i+1,j+2]) - (img[2,i+1,j] + 2*img[2,i+2,j] + img[2,i+2,j+1])\n",
        "            # -45 degree\n",
        "            rnd = (img[0,i+2,j+1] + 2*img[0,i+2,j+2] + img[0,i+1,j+2]) - (img[0,i+1,j] + 2*img[0,i,j] + img[0,i,j+1])\n",
        "            gnd = (img[1,i+2,j+1] + 2*img[1,i+2,j+2] + img[1,i+1,j+2]) - (img[1,i+1,j] + 2*img[1,i,j] + img[1,i,j+1])\n",
        "            bnd = (img[2,i+2,j+1] + 2*img[2,i+2,j+2] + img[2,i+1,j+2]) - (img[2,i+1,j] + 2*img[2,i,j] + img[2,i,j+1])\n",
        "            # Obtain angle by the product of the vectors  d45*d135= |d45|*|d135|*cos(angle) ∴ angle = arcos (d45*d135/|d45|*|d135|)\n",
        "            Td[i,j] = GetAnglePV(rpd,gpd,bpd,rnd,gnd,bnd)\n",
        "    T=(Txy+Td)/2\n",
        "    return T"
      ]
    },
    {
      "cell_type": "markdown",
      "id": "79481e52-2241-4f22-8c7b-f00d53007086",
      "metadata": {
        "id": "79481e52-2241-4f22-8c7b-f00d53007086"
      },
      "source": [
        "#### *GetAnglePV* Function"
      ]
    },
    {
      "cell_type": "code",
      "execution_count": null,
      "id": "7c178f44-8aae-4b89-8d7e-18308e579e9b",
      "metadata": {
        "id": "7c178f44-8aae-4b89-8d7e-18308e579e9b"
      },
      "outputs": [],
      "source": [
        "def GetAnglePV(r1,g1,b1,r2,g2,b2):\n",
        "    gr1 = math.sqrt(pow(r1,2) + pow(g1,2) + pow(b1,2)) # |H| OR |d45|\n",
        "    gr2 = math.sqrt(pow(r2,2) + pow(g2,2) + pow(b2,2)) # |V| OR |d135|\n",
        "    gr3 = r1*r2 + g1*g2 + b1*b2 # H*V OR d45*d135\n",
        "    grf = gr1 * gr2\n",
        "    if grf == 0:\n",
        "        grf = grf + 0.0001\n",
        "    cos = gr3 / grf\n",
        "    if cos > 1:\n",
        "        cos=1\n",
        "    if cos < -1:\n",
        "        cos=-1\n",
        "    angle = math.acos(cos) * 180.0 / math.pi # arcos (H*V/|H|*|V|) radians to degrees (+0.0001):avoid division by 0\n",
        "    Nangle = round(angle / 180.0)\n",
        "    return Nangle"
      ]
    },
    {
      "cell_type": "markdown",
      "id": "ed21beb9-c8b6-421b-9372-b24d1ad4136f",
      "metadata": {
        "id": "ed21beb9-c8b6-421b-9372-b24d1ad4136f"
      },
      "source": [
        "## *GetIntMap* Function"
      ]
    },
    {
      "cell_type": "code",
      "execution_count": null,
      "id": "36274d2c-62a4-463b-8396-da7f8743a69d",
      "metadata": {
        "id": "36274d2c-62a4-463b-8396-da7f8743a69d"
      },
      "outputs": [],
      "source": [
        "def GetIntMap(HSV,Qi,Row,Col):\n",
        "    V=HSV[2,1:Row-1,1:Col-1]\n",
        "    IM=V*(Qi-1)\n",
        "    return IM"
      ]
    },
    {
      "cell_type": "markdown",
      "id": "422e4a64-cf16-4a03-8d98-490a60905283",
      "metadata": {
        "id": "422e4a64-cf16-4a03-8d98-490a60905283"
      },
      "source": [
        "## *Get_MicroMap* Function"
      ]
    },
    {
      "cell_type": "code",
      "execution_count": null,
      "id": "5e751c5f-7ee6-4993-b6d0-d81145ebcc76",
      "metadata": {
        "id": "5e751c5f-7ee6-4993-b6d0-d81145ebcc76"
      },
      "outputs": [],
      "source": [
        "def Get_MicroMap(S1,S2,Img,Row,Col):\n",
        "    Ro=Row-2\n",
        "    Co=Col-2\n",
        "    A=Get_StructureMap(S1,S2,Img,Ro,Co,0,0)\n",
        "    B=Get_StructureMap(S1,S2,Img,Ro,Co,0,1)\n",
        "    C=Get_StructureMap(S1,S2,Img,Ro,Co,1,0)\n",
        "    D=Get_StructureMap(S1,S2,Img,Ro,Co,1,1)\n",
        "    Map=np.amax([A,B,C,D],axis=0)\n",
        "    return Map"
      ]
    },
    {
      "cell_type": "markdown",
      "id": "8fd6dc4f-1041-42ed-a7ef-9c8531ce1e36",
      "metadata": {
        "id": "8fd6dc4f-1041-42ed-a7ef-9c8531ce1e36"
      },
      "source": [
        "### *Get_StructureMap* Function"
      ]
    },
    {
      "cell_type": "code",
      "execution_count": null,
      "id": "a33eb617-043d-43ce-8c99-0b11f1670985",
      "metadata": {
        "id": "a33eb617-043d-43ce-8c99-0b11f1670985"
      },
      "outputs": [],
      "source": [
        "def Get_StructureMap(S1,S2,img,Ro,Co,Dx,Dy):\n",
        "    sMap=np.ones((Ro,Co))*-1\n",
        "    it = math.floor((Ro-Dx)/3)*(3)#to delet de edge of image and delimit the convolution\n",
        "    jt = math.floor((Co-Dy)/3)*(3)\n",
        "    for i in range (1+Dx,it,3):\n",
        "        for j in range (1+Dy,jt,3):\n",
        "            WA = S1[i-1:i+2,j-1:j+2]\n",
        "            WV = S2[i-1:i+2,j-1:j+2]\n",
        "            for m in range(3):\n",
        "                for n in range (3):\n",
        "                    if ((WA[1,1] == WA[m,n]) | (WV[1,1] == WV[m,n])):\n",
        "                    #if (WA(5) == WA(m,n) && WV(5) == WV(m,n))\n",
        "                        sMap[i+(m-1), j+(n-1)] = img[i+(m-1), j+(n-1)]\n",
        "    return sMap"
      ]
    },
    {
      "cell_type": "markdown",
      "id": "bc522d73-4443-4336-90db-c3661d772241",
      "metadata": {
        "id": "bc522d73-4443-4336-90db-c3661d772241"
      },
      "source": [
        "## *Get_SEH* Function"
      ]
    },
    {
      "cell_type": "code",
      "execution_count": null,
      "id": "3f28cff8-2403-40b6-abfe-e0e54e346769",
      "metadata": {
        "id": "3f28cff8-2403-40b6-abfe-e0e54e346769"
      },
      "outputs": [],
      "source": [
        "def Get_SEH(img,Row,Col,te,ne):\n",
        "    Ro=Row-2\n",
        "    Co=Col-2\n",
        "    H1=Get_HiStructures(img,Ro,Co,0,0,te,ne)\n",
        "    H2=Get_HiStructures(img,Ro,Co,0,1,te,ne)\n",
        "    H3=Get_HiStructures(img,Ro,Co,1,0,te,ne)\n",
        "    H4=Get_HiStructures(img,Ro,Co,1,1,te,ne)\n",
        "    SEH=(H1+H2+H3+H4)/4\n",
        "    return SEH"
      ]
    },
    {
      "cell_type": "markdown",
      "id": "c80d232d-d825-422f-80d4-36df3eb59226",
      "metadata": {
        "id": "c80d232d-d825-422f-80d4-36df3eb59226"
      },
      "source": [
        "### *Get_HiStructures* Function"
      ]
    },
    {
      "cell_type": "code",
      "execution_count": null,
      "id": "ac44eb95-8231-4827-b150-72188229abbe",
      "metadata": {
        "id": "ac44eb95-8231-4827-b150-72188229abbe"
      },
      "outputs": [],
      "source": [
        "def Get_HiStructures(img,Ro,Co,Dx,Dy,te,ne):\n",
        "    HiStruc=np.zeros(ne)\n",
        "    it = math.floor((Ro-Dx)/3)*(3)#to delet de edge of image and delimit the convolution\n",
        "    jt = math.floor((Co-Dy)/3)*(3)\n",
        "    ct=0\n",
        "    for i in range (1+Dx,it,3):\n",
        "        for j in range (1+Dy,jt,3):\n",
        "            WA = img[i-1:i+2,j-1:j+2]\n",
        "            [ce,cu,dm,lm,cm] = Get_SCof(WA,0)\n",
        "            if (te == 1) & (ne == 7) & (ce < 8) & (ce > 0):\n",
        "                HiStruc[ce-1]=HiStruc[ce-1]+1\n",
        "            elif (te == 1) & (ne == 9):\n",
        "                HiStruc[ce]=HiStruc[ce]+1\n",
        "            elif te == 2:\n",
        "                T=Get_StypeC(ce,cu,dm,lm,cm,ne)\n",
        "                if T > -1:\n",
        "                    HiStruc[T]=HiStruc[T]+1\n",
        "            ct=ct+1\n",
        "    HiStruc=HiStruc/ct\n",
        "    return HiStruc"
      ]
    },
    {
      "cell_type": "markdown",
      "id": "f32b7f81-3c7b-4af0-b7ac-9255e4743d5c",
      "metadata": {
        "id": "f32b7f81-3c7b-4af0-b7ac-9255e4743d5c"
      },
      "source": [
        "#### *Get_SCof* Function"
      ]
    },
    {
      "cell_type": "code",
      "execution_count": null,
      "id": "c83173a4-9fcf-4b34-ab5c-e7d1d0c795a7",
      "metadata": {
        "id": "c83173a4-9fcf-4b34-ab5c-e7d1d0c795a7"
      },
      "outputs": [],
      "source": [
        "def Get_SCof(WA,WV):\n",
        "    #Get the coeficients to recognice the esructure element\n",
        "    if WV == 0:\n",
        "        WV=WA\n",
        "    ce=cu=dm=lm=cm=ta=c=0\n",
        "    vt=np.zeros(4)\n",
        "    m,n = 0,0\n",
        "    for p in range (8):\n",
        "        if (WA[1,1] == WA[m,n]) | (WV[1,1] == WV[m,n]):\n",
        "        #if WA(5) == WA(m,n) && WV(5) == WV(m,n)\n",
        "            ce, tp, ta = ce+1, ta, 1\n",
        "        else:\n",
        "            tp, ta = ta, 0\n",
        "        if (p > 0) & (tp != ta):\n",
        "            if cu == 0:\n",
        "                ti, ci = tp, c\n",
        "            cu = cu+1\n",
        "            if (dm < c) & (tp == 0):\n",
        "                dm, c = c, 1\n",
        "            elif (lm < c) & (tp == 1):\n",
        "                lm, c = c, 1\n",
        "        else:\n",
        "            c = c+1\n",
        "        if p == 7:\n",
        "            if c < 8:\n",
        "                if ti == ta:\n",
        "                    c = c+ci\n",
        "                else:\n",
        "                    cu = cu+1\n",
        "            if (dm < c) & (ta == 0):\n",
        "                dm = c\n",
        "            elif (lm < c) & (ta == 1):\n",
        "                lm = c\n",
        "        if p <= 3:\n",
        "            vt[p] = ta\n",
        "        elif vt[p-4] == ta:\n",
        "            cm = cm+1\n",
        "        #Get in circule\n",
        "        [n,m]=Get_circule(n,p,m)\n",
        "    return ce,cu,dm,lm,cm"
      ]
    },
    {
      "cell_type": "markdown",
      "id": "423a3ef1-ec94-47d9-811d-50724225f2fe",
      "metadata": {
        "id": "423a3ef1-ec94-47d9-811d-50724225f2fe"
      },
      "source": [
        "##### *Get_circule* Function"
      ]
    },
    {
      "cell_type": "code",
      "execution_count": null,
      "id": "af2aa152-f1d8-4ca9-8f96-01ef3bfd5a47",
      "metadata": {
        "id": "af2aa152-f1d8-4ca9-8f96-01ef3bfd5a47"
      },
      "outputs": [],
      "source": [
        "def Get_circule(n,p,m):\n",
        "    #get in circule te cordinated\n",
        "    if (n < 2) & (p < 2):\n",
        "        n = n+1\n",
        "    elif m < 2:\n",
        "        m = m+1\n",
        "    elif p < 6:\n",
        "        n = n-1\n",
        "    else:\n",
        "        m = m-1\n",
        "    return n,m"
      ]
    },
    {
      "cell_type": "markdown",
      "id": "0ff8fc94-dd6e-435b-86c4-c0c58383fb30",
      "metadata": {
        "id": "0ff8fc94-dd6e-435b-86c4-c0c58383fb30"
      },
      "source": [
        "#### *Get_StypeC* Function"
      ]
    },
    {
      "cell_type": "code",
      "execution_count": null,
      "id": "e0d2cd98-3e69-4ece-9f59-cf24113cc545",
      "metadata": {
        "id": "e0d2cd98-3e69-4ece-9f59-cf24113cc545"
      },
      "outputs": [],
      "source": [
        "def Get_StypeC(ce,cu,dm,lm,cm,ne):\n",
        "    if ce == 0:\n",
        "        t=0\n",
        "    elif ce == 1:\n",
        "        t=1\n",
        "\n",
        "    elif ce == 7:\n",
        "        t=2\n",
        "\n",
        "    elif (ce == 2) & (dm == 6):\n",
        "        t=3\n",
        "    elif (ce == 2) & (dm == 5):\n",
        "        t=4\n",
        "    elif (ce == 2) & (dm == 4):\n",
        "        t=5\n",
        "    elif (ce == 2) & (dm == 3):\n",
        "        t=6\n",
        "\n",
        "    elif (ce == 6) & (lm == 6):\n",
        "        t=7\n",
        "    elif (ce == 6) & (lm == 5):\n",
        "        t=8\n",
        "    elif (ce == 6) & (lm == 4):\n",
        "        t=9\n",
        "    elif (ce == 6) & (lm == 3):\n",
        "        t=10\n",
        "\n",
        "    elif (ce == 3) & (cu == 2):\n",
        "        t=11\n",
        "    elif (ce == 3) & (cu == 4) & (dm == 4):\n",
        "        t=12\n",
        "    elif (ce == 3) & (cu == 4) & (dm == 3):\n",
        "        t=13\n",
        "    elif (ce == 3) & (cu == 6) & (dm == 3):\n",
        "        t=14\n",
        "    elif (ce == 3) & (dm == 2):\n",
        "        t=15\n",
        "\n",
        "    elif (ce == 5) & (cu == 2):\n",
        "        t=16\n",
        "    elif (ce == 5) & (cu == 4) & (lm == 4):\n",
        "        t=17\n",
        "    elif (ce == 5) & (cu == 4) & (lm == 3):\n",
        "        t=18\n",
        "    elif (ce == 5) & (cu == 6) & (lm == 3):\n",
        "        t=19\n",
        "    elif (ce == 5) & (lm == 2):\n",
        "        t=20\n",
        "\n",
        "    elif (ce == 4) & (cu == 2):\n",
        "        t=21\n",
        "    elif (ce == 4) & (lm == 3) & (dm == 3):\n",
        "        t=22\n",
        "    elif (ce == 4) & (lm == 3) & (dm == 2):\n",
        "        t=23\n",
        "    elif (ce == 4) & (lm == 2) & (dm == 3):\n",
        "        t=24\n",
        "    elif (ce == 4) & (cu == 6) & (cm == 2):\n",
        "        t=25\n",
        "    elif (ce == 4) & (cu == 6) & (cm == 0):\n",
        "        t=26\n",
        "    elif (ce == 4) & (cu == 4) & (cm == 4):\n",
        "        t=27\n",
        "    elif (ce == 4) & (cu == 8):\n",
        "        t=28\n",
        "    elif  (ne==30) & (ce == 8):\n",
        "        t=29\n",
        "    else:\n",
        "        t=-1\n",
        "    if ne == 28:\n",
        "        t=t-1\n",
        "    return t"
      ]
    },
    {
      "cell_type": "markdown",
      "id": "765a488a-6cb9-4813-aed8-89b096f37271",
      "metadata": {
        "id": "765a488a-6cb9-4813-aed8-89b096f37271"
      },
      "source": [
        "## *Get_MicroMapStr* Function"
      ]
    },
    {
      "cell_type": "code",
      "execution_count": null,
      "id": "33d4b087-bd67-44db-9666-2ea970fa273b",
      "metadata": {
        "id": "33d4b087-bd67-44db-9666-2ea970fa273b"
      },
      "outputs": [],
      "source": [
        "def Get_MicroMapStr(S1,S2,Img,Row,Col,te,ne):\n",
        "    Ro=Row-2\n",
        "    Co=Col-2\n",
        "    [A,H1]=Get_StructureMapHS(S1,S2,Img,Ro,Co,0,0,te,ne)\n",
        "    [B,H2]=Get_StructureMapHS(S1,S2,Img,Ro,Co,0,1,te,ne)\n",
        "    [C,H3]=Get_StructureMapHS(S1,S2,Img,Ro,Co,1,0,te,ne)\n",
        "    [D,H4]=Get_StructureMapHS(S1,S2,Img,Ro,Co,1,1,te,ne)\n",
        "    Map=np.amax([A,B,C,D],axis=0)\n",
        "    SEH=(H1+H2+H3+H4)/4\n",
        "    return SEH, Map"
      ]
    },
    {
      "cell_type": "markdown",
      "id": "01139a67-8738-429f-b1c0-91eef9f3a159",
      "metadata": {
        "id": "01139a67-8738-429f-b1c0-91eef9f3a159"
      },
      "source": [
        "### *Get_StructureMapHS* Function"
      ]
    },
    {
      "cell_type": "code",
      "execution_count": null,
      "id": "ce73a31b-5bd7-4001-b44a-ab04c267f4ea",
      "metadata": {
        "id": "ce73a31b-5bd7-4001-b44a-ab04c267f4ea"
      },
      "outputs": [],
      "source": [
        "def Get_StructureMapHS(S1,S2,img,rows,columns,Dx,Dy,te,ne):\n",
        "    sMap=np.ones((rows, columns))*-1\n",
        "    HiStruc=np.zeros(ne)\n",
        "    it = math.floor((rows-Dx)/3)*(3)#to delet de edge of image and delimit the convolution\n",
        "    jt = math.floor((columns-Dy)/3)*(3)\n",
        "    ct=0\n",
        "    for i in range (1+Dx,it,3):\n",
        "        for j in range (1+Dy,jt,3):\n",
        "            WA = S1[i-1:i+2,j-1:j+2]\n",
        "            WV = S2[i-1:i+2,j-1:j+2]\n",
        "            for m in range(3):\n",
        "                for n in range (3):\n",
        "                    if (WA[1,1] == WA[m,n]) | (WV[1,1] == WV[m,n]):\n",
        "                    #if (WA(5) == WA(m,n) && WV(5) == WV(m,n))\n",
        "                        sMap[i+(m-1), j+(n-1)] = img[i+(m-1), j+(n-1)]\n",
        "            [ce,cu,dm,lm,cm] = Get_SCof(WA,0)\n",
        "            if (te == 1) & (ne == 7) & (ce < 8) & (ce > 0):\n",
        "                HiStruc[ce-1]=HiStruc[ce-1]+1\n",
        "            elif (te == 1) & (ne == 9):\n",
        "                HiStruc[ce]=HiStruc[ce]+1\n",
        "            elif te == 2:\n",
        "                T=Get_StypeC(ce,cu,dm,lm,cm,ne)\n",
        "                if T > -1:\n",
        "                    HiStruc[T]=HiStruc[T]+1\n",
        "            ct=ct+1\n",
        "    HiStruc=HiStruc/ct\n",
        "    return sMap,HiStruc"
      ]
    },
    {
      "cell_type": "markdown",
      "id": "e2aa7f91-a20c-4cda-bb7f-3c897ec65463",
      "metadata": {
        "id": "e2aa7f91-a20c-4cda-bb7f-3c897ec65463"
      },
      "source": [
        "## *Get_MSR* Function"
      ]
    },
    {
      "cell_type": "code",
      "execution_count": null,
      "id": "98f8cda0-4646-4e43-b5e2-88eb8d4fb956",
      "metadata": {
        "id": "98f8cda0-4646-4e43-b5e2-88eb8d4fb956"
      },
      "outputs": [],
      "source": [
        "def Get_MSR(Map, CSA, rows,columns):\n",
        "    MS = np.zeros(CSA)\n",
        "    HA = np.zeros(CSA)\n",
        "    hist = np.zeros(CSA)\n",
        "    for i in range (rows-2):\n",
        "        for j in range (columns-2):\n",
        "            Val=int(Map[i,j])\n",
        "            if Val >= 0:\n",
        "                HA[Val]= HA[Val]+1\n",
        "    for i in range (rows-4):\n",
        "        for j in range (columns-4):\n",
        "            wa = Map[i:i+3,j:j+3]\n",
        "            TE1 = 0\n",
        "            for m in range (3):\n",
        "                for n in range (3):\n",
        "                    if ((wa[1,1] == wa[m,n]) & (wa[1,1] >= 0)):\n",
        "                        if (m != 1) & (n!= 1):\n",
        "                            TE1 = TE1 + 1\n",
        "            Val=int(wa[1,1])\n",
        "            if Val >= 0:\n",
        "                MS[Val] = MS[Val]+TE1\n",
        "    for i in range (CSA):\n",
        "        if HA[i] > 0.0:\n",
        "            hist[i] = (MS[i] * 1.0) / (8.0 * HA[i])\n",
        "    return hist"
      ]
    },
    {
      "cell_type": "code",
      "execution_count": null,
      "id": "4bfaa324-b10f-4888-b3a2-11090f6578ab",
      "metadata": {
        "id": "4bfaa324-b10f-4888-b3a2-11090f6578ab"
      },
      "outputs": [],
      "source": []
    }
  ],
  "metadata": {
    "kernelspec": {
      "display_name": "Python 3 (ipykernel)",
      "language": "python",
      "name": "python3"
    },
    "language_info": {
      "codemirror_mode": {
        "name": "ipython",
        "version": 3
      },
      "file_extension": ".py",
      "mimetype": "text/x-python",
      "name": "python",
      "nbconvert_exporter": "python",
      "pygments_lexer": "ipython3",
      "version": "3.9.12"
    },
    "colab": {
      "provenance": []
    }
  },
  "nbformat": 4,
  "nbformat_minor": 5
}